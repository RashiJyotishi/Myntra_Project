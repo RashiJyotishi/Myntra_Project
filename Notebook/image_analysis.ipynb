{
  "nbformat": 4,
  "nbformat_minor": 0,
  "metadata": {
    "colab": {
      "provenance": []
    },
    "kernelspec": {
      "name": "python3",
      "display_name": "Python 3"
    },
    "language_info": {
      "name": "python"
    }
  },
  "cells": [
    {
      "cell_type": "markdown",
      "source": [
        "**COLOUR ANALYSIS**"
      ],
      "metadata": {
        "id": "EdinhxnXMASZ"
      }
    },
    {
      "cell_type": "markdown",
      "source": [
        "\n",
        "\n",
        "1. **Imported Libraries**: Imported **OpenCV**, **NumPy**, **KMeans** from **sklearn**, and **webcolors**.\n",
        "\n",
        "2. **Defined CSS Color Mapping**: Defined a dictionary for **CSS3 hex color codes** to **color names**.\n",
        "\n",
        "3. **Functions**:\n",
        "   - **closest_color**: Finds the nearest **CSS3 color name** for an **RGB value**.\n",
        "   - **analyze_colors**:\n",
        "     - **Reads and converts** the image.\n",
        "     - Applies **KMeans** to find **dominant colors**.\n",
        "     - Maps the colors to the nearest **CSS3 names**.\n",
        "     - Returns **color names** and **percentages**.\n",
        "\n",
        "4. **Usage Example**: Analyzed colors of an image and **printed** the results.\n"
      ],
      "metadata": {
        "id": "VoHby10lYmjO"
      }
    },
    {
      "cell_type": "code",
      "source": [
        "pip install opencv-python scikit-learn webcolors"
      ],
      "metadata": {
        "colab": {
          "base_uri": "https://localhost:8080/"
        },
        "id": "rKnqJ2fhTYOn",
        "outputId": "b1c84817-cbcf-46c7-953b-bfc61f45c257"
      },
      "execution_count": null,
      "outputs": [
        {
          "output_type": "stream",
          "name": "stdout",
          "text": [
            "Requirement already satisfied: opencv-python in /usr/local/lib/python3.10/dist-packages (4.8.0.76)\n",
            "Requirement already satisfied: scikit-learn in /usr/local/lib/python3.10/dist-packages (1.2.2)\n",
            "Requirement already satisfied: webcolors in /usr/local/lib/python3.10/dist-packages (24.6.0)\n",
            "Requirement already satisfied: numpy>=1.21.2 in /usr/local/lib/python3.10/dist-packages (from opencv-python) (1.25.2)\n",
            "Requirement already satisfied: scipy>=1.3.2 in /usr/local/lib/python3.10/dist-packages (from scikit-learn) (1.11.4)\n",
            "Requirement already satisfied: joblib>=1.1.1 in /usr/local/lib/python3.10/dist-packages (from scikit-learn) (1.4.2)\n",
            "Requirement already satisfied: threadpoolctl>=2.0.0 in /usr/local/lib/python3.10/dist-packages (from scikit-learn) (3.5.0)\n"
          ]
        }
      ]
    },
    {
      "cell_type": "code",
      "source": [
        "import cv2\n",
        "import numpy as np\n",
        "from sklearn.cluster import KMeans\n",
        "import webcolors\n",
        "\n",
        "# CSS3 color names to hex dictionary\n",
        "css3_hex_to_names = {\n",
        "    '#F0F8FF': 'aliceblue', '#FAEBD7': 'antiquewhite', '#00FFFF': 'aqua', '#7FFFD4': 'aquamarine',\n",
        "    '#F0FFFF': 'azure', '#F5F5DC': 'beige', '#FFE4C4': 'bisque', '#000000': 'black', '#FFEBCD': 'blanchedalmond',\n",
        "    '#0000FF': 'blue', '#8A2BE2': 'blueviolet', '#A52A2A': 'brown', '#DEB887': 'burlywood', '#5F9EA0': 'cadetblue',\n",
        "    '#7FFF00': 'chartreuse', '#D2691E': 'chocolate', '#FF7F50': 'coral', '#6495ED': 'cornflowerblue',\n",
        "    '#FFF8DC': 'cornsilk', '#DC143C': 'crimson', '#00FFFF': 'cyan', '#00008B': 'darkblue', '#008B8B': 'darkcyan',\n",
        "    '#B8860B': 'darkgoldenrod', '#A9A9A9': 'darkgray', '#006400': 'darkgreen', '#BDB76B': 'darkkhaki',\n",
        "    '#8B008B': 'darkmagenta', '#556B2F': 'darkolivegreen', '#FF8C00': 'darkorange', '#9932CC': 'darkorchid',\n",
        "    '#8B0000': 'darkred', '#E9967A': 'darksalmon', '#8FBC8F': 'darkseagreen', '#483D8B': 'darkslateblue',\n",
        "    '#2F4F4F': 'darkslategray', '#00CED1': 'darkturquoise', '#9400D3': 'darkviolet', '#FF1493': 'deeppink',\n",
        "    '#00BFFF': 'deepskyblue', '#696969': 'dimgray', '#1E90FF': 'dodgerblue', '#B22222': 'firebrick', '#FFFAF0': 'floralwhite',\n",
        "    '#228B22': 'forestgreen', '#FF00FF': 'fuchsia', '#DCDCDC': 'gainsboro', '#F8F8FF': 'ghostwhite', '#FFD700': 'gold',\n",
        "    '#DAA520': 'goldenrod', '#808080': 'gray', '#008000': 'green', '#ADFF2F': 'greenyellow', '#F0FFF0': 'honeydew',\n",
        "    '#FF69B4': 'hotpink', '#CD5C5C': 'indianred', '#4B0082': 'indigo', '#FFFFF0': 'ivory', '#F0E68C': 'khaki',\n",
        "    '#E6E6FA': 'lavender', '#FFF0F5': 'lavenderblush', '#7CFC00': 'lawngreen', '#FFFACD': 'lemonchiffon',\n",
        "    '#ADD8E6': 'lightblue', '#F08080': 'lightcoral', '#E0FFFF': 'lightcyan', '#FAFAD2': 'lightgoldenrodyellow',\n",
        "    '#D3D3D3': 'lightgray', '#90EE90': 'lightgreen', '#FFB6C1': 'lightpink', '#FFA07A': 'lightsalmon',\n",
        "    '#20B2AA': 'lightseagreen', '#87CEFA': 'lightskyblue', '#778899': 'lightslategray', '#B0C4DE': 'lightsteelblue',\n",
        "    '#FFFFE0': 'lightyellow', '#00FF00': 'lime', '#32CD32': 'limegreen', '#FAF0E6': 'linen', '#FF00FF': 'magenta',\n",
        "    '#800000': 'maroon', '#66CDAA': 'mediumaquamarine', '#0000CD': 'mediumblue', '#BA55D3': 'mediumorchid',\n",
        "    '#9370DB': 'mediumpurple', '#3CB371': 'mediumseagreen', '#7B68EE': 'mediumslateblue', '#00FA9A': 'mediumspringgreen',\n",
        "    '#48D1CC': 'mediumturquoise', '#C71585': 'mediumvioletred', '#191970': 'midnightblue', '#F5FFFA': 'mintcream',\n",
        "    '#FFE4E1': 'mistyrose', '#FFE4B5': 'moccasin', '#FFDEAD': 'navajowhite', '#000080': 'navy', '#FDF5E6': 'oldlace',\n",
        "    '#808000': 'olive', '#6B8E23': 'olivedrab', '#FFA500': 'orange', '#FF4500': 'orangered', '#DA70D6': 'orchid',\n",
        "    '#EEE8AA': 'palegoldenrod', '#98FB98': 'palegreen', '#AFEEEE': 'paleturquoise', '#DB7093': 'palevioletred',\n",
        "    '#FFEFD5': 'papayawhip', '#FFDAB9': 'peachpuff', '#CD853F': 'peru', '#FFC0CB': 'pink', '#DDA0DD': 'plum',\n",
        "    '#B0E0E6': 'powderblue', '#800080': 'purple', '#FF0000': 'red', '#BC8F8F': 'rosybrown', '#4169E1': 'royalblue',\n",
        "    '#8B4513': 'saddlebrown', '#FA8072': 'salmon', '#F4A460': 'sandybrown', '#2E8B57': 'seagreen', '#FFF5EE': 'seashell',\n",
        "    '#A0522D': 'sienna', '#C0C0C0': 'silver', '#87CEEB': 'skyblue', '#6A5ACD': 'slateblue', '#708090': 'slategray',\n",
        "    '#FFFAFA': 'snow', '#00FF7F': 'springgreen', '#4682B4': 'steelblue', '#D2B48C': 'tan', '#008080': 'teal',\n",
        "    '#D8BFD8': 'thistle', '#FF6347': 'tomato', '#40E0D0': 'turquoise', '#EE82EE': 'violet', '#F5DEB3': 'wheat',\n",
        "    '#FFFFFF': 'white', '#F5F5F5': 'whitesmoke', '#FFFF00': 'yellow', '#9ACD32': 'yellowgreen'\n",
        "}\n",
        "\n",
        "# Function to convert RGB to color name\n",
        "def closest_color(requested_color):\n",
        "    min_colors = {}\n",
        "    for hex_code, name in css3_hex_to_names.items():\n",
        "        r_c, g_c, b_c = webcolors.hex_to_rgb(hex_code)\n",
        "        rd = (r_c - requested_color[0]) ** 2\n",
        "        gd = (g_c - requested_color[1]) ** 2\n",
        "        bd = (b_c - requested_color[2]) ** 2\n",
        "        min_colors[(rd + gd + bd)] = name\n",
        "    return min_colors[min(min_colors.keys())]\n",
        "\n",
        "# Function to analyze colors\n",
        "def analyze_colors(image_path, num_colors=5):\n",
        "    img = cv2.imread(image_path)\n",
        "    img = cv2.cvtColor(img, cv2.COLOR_BGR2RGB)\n",
        "    img = img.reshape((img.shape[0] * img.shape[1], 3))\n",
        "\n",
        "    clt = KMeans(n_clusters=num_colors, n_init=10)\n",
        "    clt.fit(img)\n",
        "\n",
        "    colors = clt.cluster_centers_\n",
        "    percentages = np.bincount(clt.labels_) / len(clt.labels_)\n",
        "\n",
        "    color_names = [closest_color(color) for color in colors]\n",
        "\n",
        "    return color_names, percentages\n",
        "\n",
        "# Usage example\n",
        "image_path = '/content/sabrina.jpeg'  # Or 'instagram_image.jpeg'\n",
        "\n",
        "# Analyze colors\n",
        "color_names, percentages = analyze_colors(image_path)\n",
        "for i in range(len(color_names)):\n",
        "    print(f\"Color {i+1}: {color_names[i]}, Percentage: {percentages[i]*100:.2f}%\")"
      ],
      "metadata": {
        "colab": {
          "base_uri": "https://localhost:8080/"
        },
        "id": "gi-8_IR9TbDa",
        "outputId": "95dace5a-fdba-4f76-b916-67f8af1ed58f"
      },
      "execution_count": null,
      "outputs": [
        {
          "output_type": "stream",
          "name": "stdout",
          "text": [
            "Color 1: black, Percentage: 21.71%\n",
            "Color 2: lightsteelblue, Percentage: 43.18%\n",
            "Color 3: darksalmon, Percentage: 14.04%\n",
            "Color 4: bisque, Percentage: 11.45%\n",
            "Color 5: sienna, Percentage: 9.61%\n"
          ]
        }
      ]
    }
  ]
}